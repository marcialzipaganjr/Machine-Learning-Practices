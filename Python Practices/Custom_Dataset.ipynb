{
 "cells": [
  {
   "cell_type": "markdown",
   "metadata": {
    "id": "MyuDTa-XIziG"
   },
   "source": [
    "#LOAD DATASET"
   ]
  },
  {
   "cell_type": "code",
   "execution_count": 1,
   "metadata": {
    "id": "kGnhSs2L9WwC"
   },
   "outputs": [],
   "source": [
    "#ALL IMPORTS HERE\n",
    "import tensorflow as tf\n",
    "# import os\n",
    "# import pathlib\n",
    "# import matplotlib.pyplot as plt\n",
    "from tensorflow.keras.preprocessing.image import ImageDataGenerator"
   ]
  },
  {
   "cell_type": "code",
   "execution_count": 2,
   "metadata": {
    "colab": {
     "base_uri": "https://localhost:8080/"
    },
    "id": "wRDPX0KF9ioi",
    "outputId": "1e77cb31-2c3e-448c-cfbb-9659f8f59ba1"
   },
   "outputs": [
    {
     "name": "stdout",
     "output_type": "stream",
     "text": [
      "Drive already mounted at /content/drive; to attempt to forcibly remount, call drive.mount(\"/content/drive\", force_remount=True).\n"
     ]
    }
   ],
   "source": [
    "from google.colab import drive\n",
    "drive.mount('/content/drive')"
   ]
  },
  {
   "cell_type": "code",
   "execution_count": 3,
   "metadata": {
    "id": "bO4pBQMBLlZz"
   },
   "outputs": [],
   "source": [
    "batch_size = 4\n",
    "img_height = 224\n",
    "img_width = 224\n",
    "\n",
    "# data_dir = pathlib.Path(\"/content/drive/MyDrive/Datasets/BrainTumor/Training\")"
   ]
  },
  {
   "cell_type": "markdown",
   "metadata": {
    "id": "ltV69ex-TyqT"
   },
   "source": [
    "#DATA PREPROCESSING"
   ]
  },
  {
   "cell_type": "code",
   "execution_count": null,
   "metadata": {
    "colab": {
     "base_uri": "https://localhost:8080/"
    },
    "id": "vLiS2b6tZ11j",
    "outputId": "66a8a10e-6f82-4fbf-99e0-27accb4e11ad"
   },
   "outputs": [
    {
     "name": "stdout",
     "output_type": "stream",
     "text": [
      "Found 48 images belonging to 3 classes.\n",
      "Found 12 images belonging to 3 classes.\n"
     ]
    }
   ],
   "source": [
    "#Set Seed\n",
    "tf.random.set_seed = 41\n",
    "\n",
    "#Normalize data (MIN-MAX SCALING/NORMALIZATION)\n",
    "train_datagen = ImageDataGenerator(rescale=1./255)\n",
    "valid_datagen = ImageDataGenerator(rescale=1./255)\n",
    "\n",
    "#Set Path\n",
    "train_dir = \"/content/drive/MyDrive/Pets/Train\"\n",
    "test_dir = \"/content/drive/MyDrive/Pets/Test\"\n",
    "\n",
    "#Fetch data into batches\n",
    "train_data = train_datagen.flow_from_directory(directory=train_dir,\n",
    "                                               batch_size=batch_size,\n",
    "                                               target_size=(img_height,img_width),\n",
    "                                               class_mode=\"categorical\",\n",
    "                                               seed = 41)\n",
    "\n",
    "valid_data = valid_datagen.flow_from_directory(directory=test_dir,\n",
    "                                               batch_size=batch_size,\n",
    "                                               target_size=(img_height,img_width),\n",
    "                                               class_mode=\"categorical\",\n",
    "                                               seed = 41) \n",
    "\n",
    "#Build Model (VGG-16)\n",
    "model = tf.keras.Sequential([\n",
    "  #Convulutional Layers\n",
    "  tf.keras.layers.Conv2D(filters=10,\n",
    "                         kernel_size=3,\n",
    "                         input_shape=(img_height,img_width,3),\n",
    "                         activation='relu'),       \n",
    "  tf.keras.layers.Conv2D(10, 3, activation=\"relu\"),\n",
    "  tf.keras.layers.MaxPool2D(pool_size=2, padding='valid'),\n",
    "  # tf.keras.layers.Conv2D(10, 3, activation=\"relu\"),\n",
    "  # tf.keras.layers.Conv2D(10, 3, activation=\"relu\"),\n",
    "  # tf.keras.layers.MaxPool2D(2),\n",
    "  tf.keras.layers.Flatten(),\n",
    "  #Fully Connected Layers\n",
    "  tf.keras.layers.Dense(3, activation=\"softmax\")\n",
    "])\n",
    "  \n",
    "#Compile Model\n",
    "model.compile(loss=tf.keras.losses.CategoricalCrossentropy(),\n",
    "                optimizer=tf.keras.optimizers.Adam(),\n",
    "                metrics=[\"accuracy\"])\n",
    "\n",
    "#Fit Model\n",
    "history = model.fit(tf.expand_dims(train_data, axis=-1),\n",
    "                      epochs=3,\n",
    "                      steps_per_epoch=len(train_data),\n",
    "                      validation_data=valid_data,\n",
    "                      validation_steps=len(valid_data))                \n",
    "\n"
   ]
  },
  {
   "cell_type": "code",
   "execution_count": null,
   "metadata": {
    "id": "rbWuPkD1BnYn"
   },
   "outputs": [],
   "source": []
  },
  {
   "cell_type": "code",
   "execution_count": null,
   "metadata": {
    "id": "6i6mEV5EBxyo"
   },
   "outputs": [],
   "source": []
  }
 ],
 "metadata": {
  "accelerator": "GPU",
  "colab": {
   "history_visible": true,
   "name": "Custom_Dataset.ipynb",
   "provenance": []
  },
  "kernelspec": {
   "display_name": "Python 3",
   "language": "python",
   "name": "python3"
  },
  "language_info": {
   "codemirror_mode": {
    "name": "ipython",
    "version": 3
   },
   "file_extension": ".py",
   "mimetype": "text/x-python",
   "name": "python",
   "nbconvert_exporter": "python",
   "pygments_lexer": "ipython3",
   "version": "3.8.8"
  }
 },
 "nbformat": 4,
 "nbformat_minor": 1
}
